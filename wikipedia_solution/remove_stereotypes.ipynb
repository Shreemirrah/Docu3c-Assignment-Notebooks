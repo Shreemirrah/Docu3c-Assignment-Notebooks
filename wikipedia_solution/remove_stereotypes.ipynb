{
  "cells": [
    {
      "cell_type": "code",
      "execution_count": 2,
      "metadata": {
        "colab": {
          "base_uri": "https://localhost:8080/"
        },
        "id": "DSPiUIOO6KTa",
        "outputId": "3b91dffc-36ca-4cfc-b88d-9c08dbca1493"
      },
      "outputs": [
        {
          "name": "stdout",
          "output_type": "stream",
          "text": [
            "\n",
            "Robin is an aspiring musician who works as a salesperson in a automobile dealership, owned by Marie (Disha Tahil).\n",
            "One day he meets Sam Singh (Aruna Patel), child of Ms./Mr. Singh (Anita Kher),\n",
            "when he goes to deliver a car to her home as her birthday present.\n",
            "\n"
          ]
        }
      ],
      "source": [
        "def remove_gender_stereotypes(plot):\n",
        "    plot = plot.replace(\"son\", \"child\")\n",
        "    plot = plot.replace(\"father\", \"parent\")\n",
        "    plot = plot.replace(\"man\", \"person\")\n",
        "    plot = plot.replace(\"boyfriend\", \"partner\")\n",
        "    plot = plot.replace(\"husband\", \"spouse\")\n",
        "    plot = plot.replace(\"wife\", \"spouse\")\n",
        "    plot = plot.replace(\"aspiring singer\", \"aspiring musician\")\n",
        "    plot = plot.replace(\"salesman\", \"salesperson\")\n",
        "    plot = plot.replace(\"car showroom\", \"automobile dealership\")\n",
        "    plot = plot.replace(\"run by\", \"owned by\")\n",
        "    plot = plot.replace(\"daughter\", \"child\")\n",
        "    plot = plot.replace(\"Mr.\", \"Ms./Mr.\")\n",
        "    plot = plot.replace(\"Rohit\", \"Robin\")\n",
        "    plot = plot.replace(\"Sonia\", \"Sam\")\n",
        "    plot = plot.replace(\"Malik\", \"Marie\")\n",
        "    plot = plot.replace(\"Saxena\", \"Singh\")\n",
        "    plot = plot.replace(\"Ameesha Patel\", \"Aruna Patel\")\n",
        "    plot = plot.replace(\"Anupam Kher\", \"Anita Kher\")\n",
        "    plot = plot.replace(\"Dalip Tahil\", \"Disha Tahil\")\n",
        "    return plot\n",
        "original_plot = \"\"\"\n",
        "Rohit is an aspiring singer who works as a salesman in a car showroom, run by Malik (Dalip Tahil).\n",
        "One day he meets Sonia Saxena (Ameesha Patel), daughter of Mr. Saxena (Anupam Kher),\n",
        "when he goes to deliver a car to her home as her birthday present.\n",
        "\"\"\"\n",
        "bias_free_plot = remove_gender_stereotypes(original_plot)\n",
        "print(bias_free_plot)\n"
      ]
    },
    {
      "cell_type": "code",
      "execution_count": 3,
      "metadata": {
        "colab": {
          "base_uri": "https://localhost:8080/"
        },
        "id": "e_aw7r9A6sZG",
        "outputId": "a6da838e-c555-4586-a349-96dd10c40a46"
      },
      "outputs": [
        {
          "name": "stdout",
          "output_type": "stream",
          "text": [
            "\n",
            "Rohit is an aspiring singer who works as a salesperchild in a car showroom, run by Malik.\n",
            "One day they meets Sonia Saxena, child of Ms./Mr. Saxena,\n",
            "wtheyn they goes to deliver a car to theyr home as theyr birthday present.\n",
            "\n"
          ]
        }
      ],
      "source": [
        "def remove_stereotypes(plot):\n",
        "    gender_terms = {\n",
        "        \"he\": \"they\",\n",
        "        \"she\": \"they\",\n",
        "        \"him\": \"them\",\n",
        "        \"her\": \"them\",\n",
        "        \"his\": \"their\",\n",
        "        \"hers\": \"theirs\",\n",
        "        \"man\": \"person\",\n",
        "        \"woman\": \"person\",\n",
        "        \"boy\": \"child\",\n",
        "        \"girl\": \"child\",\n",
        "        \"father\": \"parent\",\n",
        "        \"mother\": \"parent\",\n",
        "        \"son\": \"child\",\n",
        "        \"daughter\": \"child\",\n",
        "        \"husband\": \"spouse\",\n",
        "        \"wife\": \"spouse\",\n",
        "        \"boyfriend\": \"partner\",\n",
        "        \"girlfriend\": \"partner\",\n",
        "        \"brother\": \"sibling\",\n",
        "        \"sister\": \"sibling\",\n",
        "        \"uncle\": \"relative\",\n",
        "        \"aunt\": \"relative\",\n",
        "        \"nephew\": \"relative\",\n",
        "        \"niece\": \"relative\",\n",
        "        \"grandfather\": \"grandparent\",\n",
        "        \"grandmother\": \"grandparent\",\n",
        "        \"grandson\": \"grandchild\",\n",
        "        \"granddaughter\": \"grandchild\",\n",
        "        \"man's\": \"person's\",\n",
        "        \"woman's\": \"person's\",\n",
        "        \"his/her\": \"their\",\n",
        "        \"he/she\": \"they\",\n",
        "        \"him/her\": \"them\",\n",
        "        \"Mr.\": \"Ms./Mr.\",\n",
        "        \"Mrs.\": \"Ms./Mr.\",\n",
        "        \"Miss\": \"Ms./Mr.\"\n",
        "    }\n",
        "    for term, replacement in gender_terms.items():\n",
        "        plot = plot.replace(term, replacement)\n",
        "    return plot\n",
        "original_plot = \"\"\"\n",
        "Rohit is an aspiring singer who works as a salesman in a car showroom, run by Malik.\n",
        "One day he meets Sonia Saxena, daughter of Mr. Saxena,\n",
        "when he goes to deliver a car to her home as her birthday present.\n",
        "\"\"\"\n",
        "bias_free_plot = remove_stereotypes(original_plot)\n",
        "print(bias_free_plot)\n"
      ]
    },
    {
      "cell_type": "code",
      "execution_count": 7,
      "metadata": {},
      "outputs": [],
      "source": [
        "original_plot = \"\"\"\n",
        "Rohit is an aspiring singer who works as a salesman in a car showroom, run by Malik.\n",
        "One day he meets Sonia Saxena, daughter of Mr. Saxena,\n",
        "when he goes to deliver a car to her home as her birthday present.\n",
        "\"\"\""
      ]
    },
    {
      "cell_type": "code",
      "execution_count": 8,
      "metadata": {},
      "outputs": [
        {
          "name": "stdout",
          "output_type": "stream",
          "text": [
            "\n",
            "Rohit is an aspiring singer who works as a salesperchild in a car showroom, run by Malik.\n",
            "One day they meets Sonia Saxena, child of Ms./Mr. Saxena,\n",
            "wtheyn they goes to deliver a car to theyr home as theyr birthday present.\n",
            "\n"
          ]
        }
      ],
      "source": [
        "bias_free_plot = remove_stereotypes(original_plot)\n",
        "print(bias_free_plot)"
      ]
    },
    {
      "cell_type": "code",
      "execution_count": 9,
      "metadata": {},
      "outputs": [
        {
          "name": "stdout",
          "output_type": "stream",
          "text": [
            "\n",
            "Robin is an aspiring musician who works as a salesperson in a automobile dealership, owned by Marie.\n",
            "One day he meets Sam Singh, child of Ms./Mr. Singh,\n",
            "when he goes to deliver a car to her home as her birthday present.\n",
            "\n"
          ]
        }
      ],
      "source": [
        "bias_free_plot = remove_gender_stereotypes(original_plot)\n",
        "print(bias_free_plot)"
      ]
    }
  ],
  "metadata": {
    "colab": {
      "provenance": []
    },
    "kernelspec": {
      "display_name": "Python 3",
      "name": "python3"
    },
    "language_info": {
      "codemirror_mode": {
        "name": "ipython",
        "version": 3
      },
      "file_extension": ".py",
      "mimetype": "text/x-python",
      "name": "python",
      "nbconvert_exporter": "python",
      "pygments_lexer": "ipython3",
      "version": "3.11.5"
    }
  },
  "nbformat": 4,
  "nbformat_minor": 0
}
