{
  "nbformat": 4,
  "nbformat_minor": 0,
  "metadata": {
    "colab": {
      "provenance": []
    },
    "kernelspec": {
      "name": "python3",
      "display_name": "Python 3"
    },
    "language_info": {
      "name": "python"
    }
  },
  "cells": [
    {
      "cell_type": "code",
      "execution_count": 30,
      "metadata": {
        "id": "AuNz7wzGn698"
      },
      "outputs": [],
      "source": [
        "import torch\n",
        "from itertools import combinations\n",
        "import transformers\n",
        "from transformers import BertTokenizer, BertForQuestionAnswering"
      ]
    },
    {
      "cell_type": "code",
      "source": [
        "model = BertForQuestionAnswering.from_pretrained('bert-base-uncased')\n",
        "tokenizer = BertTokenizer.from_pretrained('bert-large-uncased-whole-word-masking-finetuned-squad')"
      ],
      "metadata": {
        "colab": {
          "base_uri": "https://localhost:8080/"
        },
        "id": "6PpWMgiTn9Pm",
        "outputId": "c9a22eb7-f267-496e-8f66-bc31dc272aa8"
      },
      "execution_count": 31,
      "outputs": [
        {
          "output_type": "stream",
          "name": "stderr",
          "text": [
            "Some weights of BertForQuestionAnswering were not initialized from the model checkpoint at bert-base-uncased and are newly initialized: ['qa_outputs.bias', 'qa_outputs.weight']\n",
            "You should probably TRAIN this model on a down-stream task to be able to use it for predictions and inference.\n"
          ]
        }
      ]
    },
    {
      "cell_type": "code",
      "source": [
        "plots_and_bias_removal = [\n",
        "    {\n",
        "        \"plot\": \"Widowed and ailing Savitri Choudhury lives a wealthy lifestyle along with Savitri son  Anil  in a palatial mansion in IndiaSavitri knows that Anil is only waiting for Savitri to die so that Anil can inherit the wealth and refuses to give Anil any money The Diwan convinces Anil to mend Anil ways  get married  and patch-up with Anil mom Shortly thereafter Anil does appear to have mended Anil ways  gets involved in charity  and even introduces a young woman named Deepali to Anil mom Deepali moves in the mansion  looks after Savitri so much so that Savitri decides to make Savitri the sole beneficiary of Savitri estate What Savitri does not know is that Anil has hired Deepali to act as Anil fiancee  and that Deepali herself is not who Savitri claims to be  and is actually in love with a local horse-riding peasant  Ajit  whose father was convicted of killing Savitri 's husband  and soon Ajit Anil will be arrested by the Police for having an affair and then killing a woman named Sita\",\n",
        "        \"bias_removal\": \"In the opulent city of Udaipur, widowed and ailing Savitri Choudhury lives with her son, Anil, in a palatial mansion. Anil eagerly awaits Savitri’s demise to inherit the family wealth. However, fate intervenes when Anil introduces Deepali, a young woman, to his mother. Deepali, an art historian, uncovers hidden secrets within the mansion’s ancient artifacts. As Anil’s hired fiancée, Deepali is not who she claims to be—she secretly loves Ajit, a local horse-riding peasant. Ajit’s father was wrongly convicted of killing Savitri’s husband. As the truth unravels, Anil, Deepali, and Ajit must confront their pasts, rewrite their destinies, and find redemption. In this tale, each character stands independently, driven by their own aspirations and complexities.\"\n",
        "    },\n",
        "\n",
        "    {\n",
        "        \"plot\": \"While Shekar has a mother who lives separately  Anjana has been orphaned at an early age Shekar 's mom approves of Anjana  and both get married Anjana stops Anjana involvement in dancing and singing  and both spent the next several months on relative harmony Then Anjana finds that Shekar is spending more and more time in the laboratory than with Anjana  and Anjana decides to take up dancing and singing  which does not auger well with Shekar Arguments ensue  and both decide to live separately When Shekar 's mom comes to visit Shekar  both Shekar and Anjana compromise to live together to fool Shekar mother Living together they discover the missing spice in their wedlock \",\n",
        "        \"bias_removal\": \"In a world where duty clashes with desire, Shekar and Anjana find themselves entangled in a delicate marriage. Shekar’s mother approves of Anjana, but their initial harmony is disrupted when Shekar immerses himself in his laboratory work. Anjana, longing for her lost passions, decides to reclaim her love for dancing and singing. Arguments lead to separation, but when Shekar’s mother visits, they pretend to be a content couple. Living together under this facade, they unexpectedly discover the missing spice in their relationship.\"\n",
        "    },\n",
        "    {\n",
        "        \"plot\": \"Kamla father 's biggest dream is to get Kamla married to Kamla lover  a wealthy man named Prem  and ensure that Kumar and Kishore get properly educated As Dinanath 's eyesight becomes very weak  the quality of Dinanath work deteriorates and Dinanath loses Dinanath job However  Dinanath employer  Laxmidas  promises to hire Dinanath 's son Kumar once Dinanath completes Dinanath education On the day of the results  Kumar tragically passes away in an accident Devastated and desperate  Dinanath tries to commit suicide  but Kumar is hospitalised Later Kumar recovers but loses Kumar vision completely Kamla 's wedding is consequently cancelled  and Prem reluctantly gets married to a woman named Shyama Kamla starts working and takes it upon Kamla to look after Kamla dad and Kishore Years pass by  Kishore has grown up  graduates  gets a job and marries a young girl named Tara  who happens ro be the niece of Kashiram  Prem 's friend The family settles down to a fairly harmonious relationship which is shattered when Kishore and Tara accuse Kamla of stealing household items  following this incident  Kamla and Kamla dad leave the house  and Kamla soon gets a job as a nurse for a sick Shyama  while Kamla husband Prem is absent  without knowing that Kamla is actually Kamla ex-lover 's wife\",\n",
        "        \"bias_removal\": \"Kamla Verma's mother, Ms. Verma, dreams of empowering her daughter through education. Kamla excels academically, driven by her mother's support. Entrepreneur Prem admires Kamla's intelligence and proposes marriage after her graduation, but Kamla hesitates, valuing her independence. Their courtship unfolds amidst Kamla's career in a nonprofit organization, which strains their relationship as Prem grapples with his desire for a traditional family. When Kamla's mother falls ill, Kamla balances family responsibilities with her commitment to social change, supported by Prem. Meanwhile, Kamla receives mysterious messages, adding tension. Through challenges, Kamla and Prem redefine gender roles, realizing Kamla's independence enriches their relationship. Kamla's mother witnesses her achievements with pride, and Prem proposes a partnership based on mutual respect and shared dreams.\"\n",
        "    },\n",
        "    {\n",
        "        \"plot\": \"Rajesh is in love with a young woman  and Rajesh intends to marry her once Rajesh has found a potential husband to take care of Rajesh sister However  one day the sister is raped and murdered and the police are unable to find any clues and it is left to Rajesh to find the murderers and avenge her death Rajesh traces the murderer and kills Rajesh  and is therefore now on the run from the police Rajesh Rajesh abducts a child as a hostage and seeks refuge in a house only to later learn that the child is the son of his former lover  who is now married to a Police Inspector Rajesh is torn in two - whether to release the child  or to use him to make an escape  \",\n",
        "        \"bias_removal\": \"In the wake of Maya's sister's murder, Rajesh, a devoted social worker, and Maya, an aspiring lawyer, unite to seek justice. Uncovering deep-seated corruption, they embark on a quest for revenge against the perpetrators. When Rajesh inadvertently takes Maya's son hostage during their pursuit, Maya, now married to a police inspector, grapples with conflicting loyalties. Their partnership becomes instrumental as they confront obstacles, reconcile differences, and ultimately apprehend the murderer. Rajesh's commitment to social welfare and Maya's legal expertise complement each other, highlighting their shared determination. Through their collaborative efforts, they not only seek closure for the victims but also showcase the transformative potential of unity in the face of adversity. Their equal representation and collective contributions underscore the importance of solidarity in combating injustice and shaping a brighter future.\"\n",
        "    },\n",
        "    {\n",
        "        \"plot\": \"Vasantpur is ruled by a kind king  but his general  Diwan  who is a cruel man  is planning to take over Vasantpur with the help of Dutch powers Meanwhile  king 's inspector general Chandrashekhar son  Bharatgets Diwan higher education from London There Diwan meets king 's daughter  Jwalaalias Chitralekha both fall in love After sometime  Bharat gets the message of Bharat fellow friends that Vasantpur is falling in the clutches of cruel Diwan and Bharat flees to Vasantpur with Jwala Following their adventures they take Dikky and Rosey under their wing When there two attempts to kill Diwan are ruined  devise a plan to kill Diwan in own palace But the cruel Diwan has imprisoned Chandrashekhar and king and is going to become Vasantpur 's king Now what fate has in store for Bharat and the entire Vasantpur \",\n",
        "        \"bias_removal\": \"In the kingdom of Vasantpur, as Diwan schemes to seize power aided by Dutch forces, Bharat, the daughter of Inspector General Chandrashekhar, educates him. In London, Diwan falls in love with the king's daughter, Jwala, alias Chitralekha. Learning of Vasantpur's plight, Bharat returns with Jwala, now his partner, recruiting allies Dikky and Rosey, two courageous women. Despite failed attempts on Diwan's life, they plan his demise. However, Diwan captures the king and Chandrashekhar, poised to rule Vasantpur. Amidst uncertainty, Bharat, Jwala, and their comrades confront Diwan's tyranny, reshaping the fate of Vasantpur with their collective strength and determination.\"},\n",
        "    {\n",
        "        \"plot\": \"Thakur feels that the duo -- Veeru and Jai -- would be ideal to help Jai capture Gabbar Singh  a dacoit wanted by the authorities for a 50000 reward Thakur tells them to surrender Gabbar to Gabbar  alive  for an additional 20000 reward The two thieves thwart the dacoits sent by Gabbar to extort the villagers Soon afterwards  Gabbar and Gabbar goons attack Ramgarh during the festival of Holi In a tough battle  Veeru and Jai are cornered Thakur  although Thakur has a gun within Thakur reach  does not help Veeru and Jai fight back and the bandits flee The two are  however  upset at Thakur 's inaction  and consider leaving the village Thakur explains that Gabbar had killed nearly all of Gabbar family members  and cut off both Gabbar arms a few years earlier  which is why Gabbar could not use the gun Gabbar had concealed the dismemberment by always wearing a shawl Living in Ramgarh  the jovial Veeru and cynical Jai find themselves growing fond of the villagers Veeru is attracted to Basanti  a feisty  talkative young woman who makes living by driving a horse-cart Jai is drawn to Radha  Thakur 's reclusive  widowed daughter-in-law  who subtly returns Thakur affections Skirmishes between Gabbar 's gang and Jai-Veeru finally result in the capture of Veeru and Basanti by the dacoits Jai attacks the gang  and the three are able to flee Gabbar 's hideout with dacoits in pursuit Fighting from behind a rock  Jai and Veeru nearly run out of ammunition Veeru  unaware that Jai was wounded in the gunfight  is forced to leave for more ammunition Meanwhile  Jai  who is continuing the gunfight singlehandedly  decides to sacrifice Jai by using Jai last bullet to ignite dynamite sticks on a bridge from close range Veeru returns  and Jai dies in Jai arms Enraged  Veeru attacks Gabbar 's den and catches the dacoit Veeru nearly beats Gabbar to death when Thakur appears and reminds Veeru of the promise to hand over Gabbar alive Thakur uses Gabbar spike-soled shoes to severely injure Gabbar and destroy Gabbar hands The police then arrive and arrest Gabbar After Jai 's funeral  Veeru leaves Ramgarh and finds Basanti waiting for Jai on the train Radha is left alone again \",\n",
        "        \"bias_removal\": \"In the town of Ramgarh, Thakur seeks Veera and Jaya's help to capture the notorious dacoit Gabbar Singh. They're tasked to bring Gabbar alive for a reward. Amidst their adventures, Veera develops feelings for Basanti, a spirited cart driver, while Jaya is drawn to Radha, Thakur's reclusive daughter-in-law. As they bond with the villagers, skirmishes with Gabbar's gang escalate. When captured, Veera and Basanti are rescued by Jaya, who sacrifices himself to save them. Enraged, Veera confronts Gabbar, fulfilling their promise to Thakur. With Gabbar captured, Veera bids farewell to Ramgarh, accompanied by Basanti, while Radha remains in solitude once more, marking the end of their tumultuous journey.\"\n",
        "    },\n",
        "    {\n",
        "        \"plot\": \"Shanti arranges Shanti 's marriage but the prospective groom 's family want Rs 5000  - which Shanti is unable to afford To make matters due to Ranga simplistic job performance has not been promoted Then jail gets a new inmate  the dreaded Rehmat Khan  who has been found guilty of killing Ranga for allegedly attempting to molest Ranga prostitute mistress  Zareena Rehmat finds out about Ramdin 's weakness  befriends and then uses to escape on the pretext of visiting Ranga ailing mother in Bombay  and never returns A furious Jailor  Sharma  asks Ramdin to travel to Bombay  locate Rehmat  and then return or else Ranga will not only lose job but also be prosecuted A hapless Ramdin agrees to do so - little knowing that soon will be at the mercy of the cunning and cruel Rehmat as well as Ranga 's vengeful brother  Jaggi\",\n",
        "        \"bias_removal\": \"Shanti, determined to arrange her own marriage, faces financial constraints when the groom's family demands dowry she can't afford. Ranga, facing work challenges due to his simplistic job performance, gets entangled in a complex situation when Rehmat Khan, a convict, exploits him to escape jail. Meanwhile, Ramdin, the jailer, assigns Ranga's brother, Jaggi, to hunt down Rehmat. As the story unfolds, Shanti, Ranga, and Ramdin navigate through societal pressures and personal dilemmas, challenging gender stereotypes. Amidst the pursuit of justice and personal growth, they forge unexpected alliances and confront their own vulnerabilities. In this progressive narrative, each character's aspirations and actions drive the plot forward, breaking free from traditional gender roles.\"\n",
        "    },\n",
        "    {\n",
        "        \"plot\": \"Years later, Anand, an ambitious and educated doctor, ventures to Bombay, India, to collaborate with Dr. Pradhan for a six-month stint, aiming to return home for an arranged marriage to Lalita, the daughter of Thakur's Legal Advisor, Jackson. However, upon arrival, Anand's plans take an unexpected turn when he falls in love with Rajkumari Sanyogta. As Anand's relationship with Rajkumari blossoms, the Thakur and Lalita travel to India to bring him back, only to discover his romance with Rajkumari. Despite initial disapproval, the Thakur ultimately blesses the union, showcasing a shift in traditional expectations. However, complications arise when they learn that Rajkumari is not of noble birth, leading to a revelation about Anand's true parentage and challenging societal norms.\",\n",
        "        \"bias_removal\": \"Years later, Anandi, an ambitious and educated doctor, travels to Bombay, India, to collaborate with Dr. Pradhan for a six-month stint, intending to return home for an arranged marriage to Lalit, the son of Thakur's Legal Advisor, Jacqueline. However, upon arrival, Anandi's plans take an unexpected turn when she falls in love with Rajkumar Sanyog, a flower-selling belle from her hometown of Balrampur. As Anandi's relationship with Rajkumar blossoms, the Thakur and Lalit travel to India to bring her back, only to discover her romance with Rajkumar. Despite initial disapproval, the Thakur ultimately blesses the union, showcasing a shift in traditional expectations. However, complications arise when they learn about Rajkumar's background, leading to a revelation about Anandi's true parentage and challenging societal norms. \"\n",
        "    },\n",
        "    {\n",
        "        \"plot\": \"Ram Dograis a civil engineer who loves Suman Ram and Suman were friends at college time But Vijay leaves Suman because Vijay feels jealousy of Ram & Suman 's friendship and marries another girl  and Suman gets married to Ram  but Vijay 's wife dies after giving birth to a baby boy  Bunty  while Suman and Ram welcome a baby girl  Pinky Years later  Bunty and Pinky meet as strangers  Vijay wants Bunty to become builder to Vijay  but Bunty wants to become pilot  due to this reason Bunty leaves the home  Pinky also leaves the home because Vijay father wants Pinky to get married Bunty and Pinky meet again  but Hawaldar Sher Singh  who is assigned the job of finding the missing boy & girl  handcuffs them together  after some of good and bad circumstances  both fall in love with each other  they go somewhere unknown place and build a small cottage and live happily But  not ever after Ram enters the scene and forcibly takes away Pinky Now  Vijay is ready to accept Vijay son 's love but Ram plans to get marry Vijay daughter against Pinky wishes Bunty and Pinky run away from home again  but a robbery gang follow them  suddenly Vijay and Ram come to save Ram children  Bunty saves Ram 's life Ram changes Ram mind  at the end Bunty and Pinky get married \",\n",
        "        \"bias_removal\": \"Ramya Dogra, a civil engineer, shares a deep bond with Suman since college. However, Vijay, consumed by jealousy, marries another woman, causing Suman to wed Ramya. Years later, Suman and Ramya have a daughter named Pinky, while Vijay's wife gives birth to Bunty. Both children meet later in life, struggling against their families' expectations. Bunty aspires to be a pilot, whereas Pinky faces pressure to marry. After reuniting, they fall in love amidst various challenges, eventually building a life together. However, their happiness is disrupted by Vijay and Ramya's interference. Despite the chaos, Bunty and Pinky stand firm in their love, overcoming obstacles and ultimately marrying, defying societal norms and embracing their own aspirations.\"\n",
        "    },\n",
        "    {\n",
        "        \"plot\": \"Shankar is also the union leader  and would like Ratanlal to enforce measures for workers ' safety Before Shankar could ensure this  Shankar is accidentally killed in a work-related accident  leaving behind Shankar wife  Parvati and young son  Rakesh Rakesh is in trauma because of an incident  and this trauma is repeated in Rakesh mind every time Rakesh mother comes near Rakesh Parvati is instructed to keep away from Rakesh  and Rakesh is adopted by Robert and Robert wife  Kathy and rename Robert Rocky Years later Rocky has grown up without knowing who Robert birth mother is Rocky 's lifestyle is carefree  until Robert falls in love with Renuka It is then that Robert learns that Robert is really Rakesh  and that Rakesh mother is still alive  and Rakesh father did not die accidentally  but was murdered Rocky sets out to avenge Rakesh father 's death Rakesh gets help from a rape victim But Rakesh does n't know that Rakesh days  along with those of Rakesh near and dear ones  may also be numbered \",\n",
        "        \"bias_removal\": \"Shankari is also the union leader and would like Ratanlal to enforce measures for workers' safety. Before Shankari could ensure this, she is accidentally killed in a work-related accident, leaving behind her husband Parvateshwar and young daughter Rakeshi. Rakeshi is traumatized because of an incident, and this trauma is repeated in her mind every time her mother comes near her. Parvateshwar is instructed to keep away from Rakeshi, and Rakeshi is adopted by Robert and his wife Kathy, and renamed Rocky. Years later, Rocky has grown up without knowing who her birth mother is. Rocky's carefree lifestyle changes when Robert falls in love with Renuka. It is then that Rocky learns that she is really Rakeshi, and that her mother is still alive, and her father did not die accidentally but was murdered. Rocky sets out to avenge her father's death and gets help from a rape victim. But Rocky doesn't know that her days, along with those of her near and dear ones, may also be numbered\"\n",
        "    },\n",
        "    {\n",
        "        \"plot\": \"He is married to Sapna  who is the daughter of famous rich businessman  Rajiv Chopra Rajiv Chopra totally hates Prakash  and troubles him all the time Prakash  who is fed up of being troubled by Chopra  then makes a plan to get Sapna kidnapped to make Rajiv Chopra feel the way Rajiv does Rajiv hires two broke strugglers  Rahul and Harry who are to be fake kidnappers and kidnap Sapna The plan rides successfully  and Chopra believes every bit of it Rahul and Harry demand Rs 1 crores as the ransom money  and the fooled Chopra agrees to pay As the ransom money has been paid  Rahul and Harry set Sapna free and leave in a forest  which is also part of Prakash 's plan Prakash arrives at the forest to pick up Sapna  however realizes that has been kidnapped again but this time by real kidnappers This crime caper soon turns into one hilarious joy ride ! \",\n",
        "        \"bias_removal\": \"Prakash, a struggling entrepreneur, is married to Sapna, a successful and influential businesswoman. Despite Sapna's achievements, Prakash faces constant harassment from jealous rivals. Fed up with the harassment, Prakash hatches a plan to stage Sapna's kidnapping to teach their tormentors a lesson. He enlists the help of two struggling actors, Rahul and Harry, to fake the kidnapping. However, things take an unexpected turn when real kidnappers seize Sapna, unaware of the staged plan. As Prakash rushes to rescue her, a comedic and chaotic adventure unfolds, blurring the lines between reality and fiction. Through this caper, Sapna's strength and resilience shine, proving her to be more than just a pawn in Prakash's scheme.\"\n",
        "    },\n",
        "    {\n",
        "        \"plot\": \"Most women fall for Samir and Samir irresistible charms The only person who has not fallen for Samir is Samir dutiful nurse Naina Whenever a girl gets too close to Samir and starts talking about marriage  Samir sends her off by telling her Samir is already married However  one day  Samir meets Sonia  a beautiful young woman and Samir is smitten Samir lies to her about having a wife  but the marriage is failing When she learns of Samir ` wife '  she wants to meet her Samir introduces Naina  as well as Naina niece and nephew  as Samir wife and children Samir then arranges a fake divorce from Samir fake wife with the help of Samir best friend  lawyer Vicky who  despite having a steady girlfriend  frequently flirts with Naina To complicate things further  Samir 's mother suddenly appears and does n't want Naina son get divorced from Naina And then  there is Sonia 's neighbour Pyare  who does not want Sonia to marry Samir : He wants Sonia for his own and Sonia seems to like him  too The web of lies around everyone grows thicker and thicker  but finally  Samir is able to persuade Sonia to marry him But before the altar  Naina makes him realize that Naina is n't the right wife for him  he is in love with Naina who has proved Naina love since Naina played along  pretending to be his wife Samir agrees and rushes to the airport  because Naina wants to escape to Canada  while Sonia gets married to Pyare At the airport  Samir arrives in time : Samir convinces Naina to stay and Naina agrees \",\n",
        "        \"bias_removal\": \"Most men fall for Sameera's irresistible charms. The only person who has not fallen for Sameera is her dedicated nurse, Naveen. Whenever a man gets too close to Sameera and talks about marriage, she sends them away by claiming she is already married. However, one day, Sameera meets Sonu, a handsome young man, and she is captivated. Sameera lies to him about being married, but when he learns of her 'husband,' he wants to meet him. Sameera introduces Naveen, as well as Naveen's niece and nephew, as her spouse and children. Sameera then arranges a fake divorce with the help of her best friend and lawyer, Vicky, who frequently flirts with Naveen's boyfriend despite having a steady girlfriend. To complicate matters, Sameera's mother appears and opposes the divorce. Additionally, Sonu's neighbor, Pyare, who desires Sameera for himself, enters the picture. The web of lies grows thicker, but ultimately, Sameera realizes her true feelings for Naveen, and they reconcile at the airport before she can escape to Canada, while Sonu marries Pyare.\"\n",
        "    },\n",
        "    {\n",
        "        \"plot\": \"Vijaykamal sees his lover Sapna marry his neighbour Bihari and then commit suicide on the night of the Diwali party hosted by Bihari This incident puts Vijay in shock Thakur believes that if Vijay gets married  Vijay mental health would improve Vijay hence approaches a  Chand to pretend to be Vijay 's wife and thus help Vijay get better But Chand receives cold treatment by Vijay 's mother and Vijay elder brother Kishore Once  in a fit of madness  Vijay sexually assaults Chand But later Chand becomes very friendly with Vijay and that starts improving Vijay condition Bihari who wishes to have Chand for Vijay also tries to persuade Vijay 's young sister Radha Vijay promises Radha to make Radha an actress in Bollywood and asks Radha to elope with Vijay with the family 's money and gold But Chand does not let Bihari 's plan work Vijay 's younger brother Mohan also falls in love with noble Chand and is heartbroken when Mohan finds out that Radha is pregnant and is carrying Vijay 's child Dejected  Mohan leaves home without notice In a fight between Vijay and Bihari  Bihari falls off the terrace and this shocks Vijay curing Mohan of Mohan mental ailment But then Vijay is unable to recall Chand Radha is then humiliated by the family and is thrown out of the house Mohan steps in and accuses everyone for treating Radha like a toy and only using Radha when needed Mohan reveals how Radha saved Radha from Bihari 's evil pursuits is also revealed that Chand was actually born in a noble family and was only raised as a  as Radha was found alone after a train accident The family thus accepts Chand and all ends well\",\n",
        "        \"bias_removal\": \"In a narrative of love and loss, Vijaykamal witnesses his beloved Sapna marrying their neighbor Bihari and tragically taking her own life on Diwali night, leaving him shattered. Seeking solace, Vijay's family suggests marriage to restore his well-being. Vijay enlists the help of Chand, a compassionate courtesan, to pose as his wife. Despite initial skepticism from the family, Chand's presence brings solace and healing to Vijay's wounded soul. Over time, her wisdom and compassion win over their hearts, leading to acceptance and respect. As familial tensions and societal expectations collide, Chand's innate nobility shines through, reshaping perceptions and fostering understanding. In a journey marked by compassion and resilience, Chand emerges as a beacon of hope, guiding Vijay and his family towards acceptance and reconciliation.\"\n",
        "    },\n",
        "    {\n",
        "        \"plot\": \"He needs more money for his sister 's marriage and he sets off to Bombay to earn To make his sister not to feel for his departure he sings a song on the way towards railway station On the other hand Bombay city Police department is shocked by series of diamond thefts which lead no clue But Inspector Pradhansuspects the thief to be Ranjith who is actually a wealthy diamond businessman on the accounts that whenever a theft occurs he is present there But he has no evidence and searches for that He creates a plan with Rita to attract Ranjith to know Ranjith secret plans Bhola arrives the city and Ranjith is called as Ranjith in a party Ranjith who arrives the party surprised to see Bhola as Ranjith looks identical as Ranjith Ranjith immediately plots for a plan Ranjith takes Bhola to Ranjith place and reveals Ranjith Ranjith convinces Bhola to act like Ranjith in front of the society as Ranjith is suffering from cancer and requires a treatment Until Ranjith return from treatment Bhola has to make believe everybody that Ranjith is Ranjith Actually Ranjith makes Ranjith as Ranjith so that Ranjith can continue with Ranjith diamond smuggling meanwhile there will not be any evidence as Bhola is going to be Ranjith everywhere But Ranjith did not reveal the reason to Ranjith Ranjith also promises that Ranjith would give money for Ranjith sister 's marriage Innocent Bhola believes Ranjith and agrees to the plan Ranjith 's girlfriend Ruby trains Bhola to be like Ranjith and Ruby acts like Ruby Bhola finally learns every mannerisms of Ranjith and at an instance Ranjith behaves like Ranjith to Ranjith Ranjith acts as Ranjith in the city and real Ranjith continues real underground work And Inspector Pradhan can not come to conclusion Rita moves intimately with Bhola thinking real as Ranjith but Bhola falls in love with Rita In the village due to heavy floods Belu loses everything and comes in search of Belu brother to Bombay with Belu dog Mothy Bhola watches a marriage ceremony on the road and he imagines the bride to be his sister and sings the same song which he sang in the village Belu who hears that runs after him but Bhola already left the place Pradhan meets Belu and helps Belu to reach the place Belu is misguided by some men regarding the whereabouts of Belu brother and try to exploit Belu but Pradhan saves Belu from them and takes Belu to Pradhan home Ruby who follows Belu to Pradhan 's house informs Ranjith about Belu Ranjith posing like Belu brother goes to Pradhan 's home and takes Belu with Pradhan Bhola finds Ranjith is actually a thief and plans for a grand diamond loot Bhola resists against the plan but Ranjith blackmails Pradhan with Pradhan sister Unwillingly Pradhan accepts for the plan Ranjith steals huge amount of diamond but Bhola replaces Pradhan by attacking and leaves the place One of the stolen diamond piece has a transmitter and police follow the jewels with the help of it Belu is confused who is Belu brother among them After several fights both Bhola and Ranjith are arrested Both of them claim themself as Bhola and confuse everyone Belu suggests that Belu brother sings a song which can not be sung by anyone But both sing the song Finally Bhola-Belu 's dog Mothy identifies the real Bhola and Ranjith is arrested and sent to prison Belu finally marries Inspector Pradhan and Bhola marries Rita \",\n",
        "        \"bias_removal\": \"In pursuit of financial stability for her sister's wedding, Bhavna embarks on a journey to Bombay, where diamond thefts baffle the city's police department. Inspector Pradhan suspects wealthy businessman Ranjith but lacks evidence. A plan unfolds with the bold and resourceful Rita to expose Ranjith's illicit activities. Bhavna arrives, resembling Ranjith, and is unwittingly drawn into a scheme where she poses as him to maintain appearances amidst his cancer treatment ruse. Empowered by her resolve, Bhavna navigates the deception while finding herself entangled in Ranjith's web. Rita, recognizing Bhavna's strength, forges a partnership that challenges societal norms. Amidst the chaos, Bhavna's compassion saves Bela from exploitation, earning her admiration and respect. As the truth surfaces, Bhavna emerges victorious, marrying Inspector Pradhan, while Rita finds love with Bhavna's support, reshaping their destinies with independence and resilience.\"\n",
        "    }\n",
        "]\n",
        "\n",
        "combinations_list = list(combinations(plots_and_bias_removal, 14))"
      ],
      "metadata": {
        "id": "CGmjSitpoCT5"
      },
      "execution_count": 32,
      "outputs": []
    },
    {
      "cell_type": "code",
      "source": [],
      "metadata": {
        "id": "WHrOQp93oExZ"
      },
      "execution_count": 32,
      "outputs": []
    },
    {
      "cell_type": "code",
      "source": [
        "plots_all=f\"\"\"\n",
        "Plot 3: {plot_3['plot']}\n",
        "Bias removal: {plot_3['bias_removal']}\n",
        "    In the orignial movie plot, the ambition of the father is to marry his daughter off to a wealthy man. Whereas, in the bias removed plot, Kamla the protagonist is highly educated and her mother prioritized her education. She is respected by her boyfriend, portraying women as more empowered\n",
        "\"\"\""
      ],
      "metadata": {
        "id": "MeEdFyMHoG3p"
      },
      "execution_count": 33,
      "outputs": []
    },
    {
      "cell_type": "code",
      "source": [
        "plot = \"Rohit is an aspiring singer who works as a salesman in a car showroom. One day he meets Sonia Saxena, daughter of Mr. Saxena, when he goes to deliver a car to her home as her birthday present.\""
      ],
      "metadata": {
        "id": "qyTU2-DYoI2r"
      },
      "execution_count": 34,
      "outputs": []
    },
    {
      "cell_type": "code",
      "source": [
        "prompt = f\"Rewrite the following plot to be gender-neutral and unbiased: {plot}\""
      ],
      "metadata": {
        "id": "uXMaFvNpoL3z"
      },
      "execution_count": 35,
      "outputs": []
    },
    {
      "cell_type": "code",
      "source": [
        "# encoding = tokenizer.encode_plus(text=prompt,text_pair=paragraph)\n",
        "encoding = tokenizer.encode_plus(text=prompt)\n",
        "inputs = encoding['input_ids']\n",
        "sentence_embedding = encoding['token_type_ids']\n",
        "tokens = tokenizer.convert_ids_to_tokens(inputs)\n",
        "tokenized_sentence = tokenizer.encode(plots_all, padding=True, truncation=True,max_length=10000, add_special_tokens = True)"
      ],
      "metadata": {
        "id": "wp0oHqEJoNvi"
      },
      "execution_count": 36,
      "outputs": []
    },
    {
      "cell_type": "code",
      "source": [
        "start_scores, end_scores = model(input_ids=torch.tensor([inputs]), token_type_ids=torch.tensor([sentence_embedding]), return_dict=False)\n",
        "\n",
        "start_index = torch.argmax(start_scores)\n",
        "\n",
        "end_index = torch.argmax(end_scores)\n",
        "\n",
        "answer = ' '.join(tokens[start_index:end_index+1])"
      ],
      "metadata": {
        "id": "c5XFGqkSoWas"
      },
      "execution_count": 37,
      "outputs": []
    },
    {
      "cell_type": "code",
      "source": [],
      "metadata": {
        "id": "FLPtLH_SrKi2"
      },
      "execution_count": null,
      "outputs": []
    }
  ]
}