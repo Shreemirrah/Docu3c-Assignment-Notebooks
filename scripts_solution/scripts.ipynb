{
 "cells": [
  {
   "cell_type": "code",
   "execution_count": 4,
   "metadata": {},
   "outputs": [
    {
     "name": "stdout",
     "output_type": "stream",
     "text": [
      "Success\n"
     ]
    }
   ],
   "source": [
    "import requests\n",
    "\n",
    "headers = {\n",
    "  'x-api-key': 'sec_9lyTb4z5WQBYeK55fokM3x7MyczzNv6j',\n",
    "  'Content-Type': 'application/json',\n",
    "}\n",
    "data = {\n",
    "  \"sources\": [\"src_xxxxxx\"] \n",
    "  \n",
    "}\n",
    "try:\n",
    "  response = requests.post('https://api.chatpdf.com/v1/sources/delete', json=data, headers=headers)\n",
    "  response.raise_for_status()\n",
    "  print('Success')\n",
    "except requests.exceptions.RequestException as error:\n",
    "  print('Error:', error)\n",
    "  print('Response:', error.response.text)\n"
   ]
  }
 ],
 "metadata": {
  "kernelspec": {
   "display_name": "Bollywood",
   "language": "python",
   "name": "python3"
  },
  "language_info": {
   "codemirror_mode": {
    "name": "ipython",
    "version": 3
   },
   "file_extension": ".py",
   "mimetype": "text/x-python",
   "name": "python",
   "nbconvert_exporter": "python",
   "pygments_lexer": "ipython3",
   "version": "3.11.5"
  }
 },
 "nbformat": 4,
 "nbformat_minor": 2
}
